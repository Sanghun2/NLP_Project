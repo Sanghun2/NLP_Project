{
  "nbformat": 4,
  "nbformat_minor": 0,
  "metadata": {
    "colab": {
      "name": "전부다 크롤링~~.ipynb",
      "provenance": [],
      "collapsed_sections": []
    },
    "kernelspec": {
      "name": "python3",
      "display_name": "Python 3"
    }
  },
  "cells": [
    {
      "cell_type": "code",
      "metadata": {
        "id": "dajYcdYWnVvz",
        "colab_type": "code",
        "colab": {
          "base_uri": "https://localhost:8080/",
          "height": 89
        },
        "outputId": "6399c955-4b97-4370-9b8b-461a44c212cb"
      },
      "source": [
        "import requests\n",
        "from bs4 import BeautifulSoup\n",
        "import csv\n",
        "\n",
        "def crawling(soup) :\n",
        "    result = \"\"\n",
        "    for children in soup.find(\"div\", class_=\"_article_body_contents\").children :\n",
        "        if children.name == None :\n",
        "            result += children\n",
        "    \n",
        "    start = result.find(\"// TV플레이어\")\n",
        "    result = result[start+len(\"// TV플레이어\")+1:]\n",
        "    \n",
        "    end = result.find(\"// 본문 내용\")\n",
        "    result = result[:end]\n",
        "    \n",
        "    return result.replace(\"\\n\", \"\").replace(\"\\t\", \"\")\n",
        "    \n",
        "\n",
        "def get_href(soup) :\n",
        "    result = []\n",
        "    \n",
        "    cluster_head = soup.find(\"h2\", class_=\"cluster_head_topic\")\n",
        "    href = cluster_head.find(\"a\")[\"href\"]\n",
        "    \n",
        "    url = \"https://news.naver.com\" + href\n",
        "    req = requests.get(url)\n",
        "    new_soup = BeautifulSoup(req.text, \"html.parser\")\n",
        "    \n",
        "    main_content = new_soup.find(\"div\", id=\"main_content\")\n",
        "    \n",
        "    for ul in main_content.find_all(\"ul\") :\n",
        "        for a in ul.find_all(\"a\") :\n",
        "            result.append(a[\"href\"])\n",
        "    print(result)\n",
        "    return result\n",
        "\n",
        "\n",
        "def get_request(section) :\n",
        "    url = \"https://news.naver.com/main/main.nhn\"\n",
        "    section_dict = { \"정치\" : 100,\n",
        "                     \"경제\" : 101,\n",
        "                     \"사회\" : 102,\n",
        "                     \"생활\" : 103,\n",
        "                     \"세계\" : 104,\n",
        "                     \"과학\" : 105 }\n",
        "    return requests.get(url, params={\"sid1\":section_dict[section]})\n",
        "\n",
        "\n",
        "def main() :\n",
        "    list_href = []\n",
        "    result = []\n",
        "    \n",
        "    # 섹션을 입력하세요.\n",
        "    for i in range(5):\n",
        "      section = input('\"정치\", \"경제\", \"사회\", \"생활\", \"세계\", \"과학\" 중 하나를 입력하세요.\\n  > ')\n",
        "      \n",
        "      req = get_request(section)\n",
        "      soup = BeautifulSoup(req.text, \"html.parser\")\n",
        "      \n",
        "      list_href = get_href(soup)\n",
        "      \n",
        "      for href in list_href :\n",
        "          href_req = requests.get(href)\n",
        "          href_soup = BeautifulSoup(href_req.text, \"html.parser\")\n",
        "          result.append(crawling(href_soup))\n",
        "      print(result)\n",
        "\n",
        "    f = open(f'newstitle.csv', 'w',  -1, \"utf-8\")\n",
        "    csvWriter = csv.writer(f)\n",
        "    cnt =0\n",
        "    for i in result:\n",
        "      cnt += 1\n",
        "      if cnt>0:\n",
        "          if cnt % 2 ==0:\n",
        "              csvWriter.writerow([i])\n",
        "        \n",
        "    f.close()\n",
        "\n",
        "    print(\"완료\")\n",
        "   \n",
        "    \n",
        "\n",
        "\n",
        "if __name__ == \"__main__\" :\n",
        "    main()"
      ],
      "execution_count": null,
      "outputs": [
        {
          "output_type": "stream",
          "text": [
            "\"정치\", \"경제\", \"사회\", \"생활\", \"세계\", \"과학\" 중 하나를 입력하세요.\n",
            "  > 경제\n",
            "['https://news.naver.com/main/read.nhn?mode=LSD&mid=shm&sid1=101&oid=023&aid=0003557115', 'https://news.naver.com/main/read.nhn?mode=LSD&mid=shm&sid1=101&oid=023&aid=0003557115', 'https://news.naver.com/main/read.nhn?mode=LSD&mid=shm&sid1=101&oid=011&aid=0003788746', 'https://news.naver.com/main/read.nhn?mode=LSD&mid=shm&sid1=101&oid=011&aid=0003788746', 'https://news.naver.com/main/read.nhn?mode=LSD&mid=shm&sid1=101&oid=008&aid=0004461746', 'https://news.naver.com/main/read.nhn?mode=LSD&mid=shm&sid1=101&oid=079&aid=0003399763', 'https://news.naver.com/main/read.nhn?mode=LSD&mid=shm&sid1=101&oid=079&aid=0003399763', 'https://news.naver.com/main/read.nhn?mode=LSD&mid=shm&sid1=101&oid=422&aid=0000444887', 'https://news.naver.com/main/read.nhn?mode=LSD&mid=shm&sid1=101&oid=422&aid=0000444887', 'https://news.naver.com/main/read.nhn?mode=LSD&mid=shm&sid1=101&oid=008&aid=0004461681', 'https://news.naver.com/main/read.nhn?mode=LSD&mid=shm&sid1=101&oid=025&aid=0003029554', 'https://news.naver.com/main/read.nhn?mode=LSD&mid=shm&sid1=101&oid=025&aid=0003029554', 'https://news.naver.com/main/read.nhn?mode=LSD&mid=shm&sid1=101&oid=011&aid=0003788599', 'https://news.naver.com/main/read.nhn?mode=LSD&mid=shm&sid1=101&oid=011&aid=0003788599', 'https://news.naver.com/main/read.nhn?mode=LSD&mid=shm&sid1=101&oid=003&aid=0010042940', 'https://news.naver.com/main/read.nhn?mode=LSD&mid=shm&sid1=101&oid=003&aid=0010042940', 'https://news.naver.com/main/read.nhn?mode=LSD&mid=shm&sid1=101&oid=001&aid=0011840300', 'https://news.naver.com/main/read.nhn?mode=LSD&mid=shm&sid1=101&oid=001&aid=0011840300', 'https://news.naver.com/main/read.nhn?mode=LSD&mid=shm&sid1=101&oid=018&aid=0004722666', 'https://news.naver.com/main/read.nhn?mode=LSD&mid=shm&sid1=101&oid=018&aid=0004722666', 'https://news.naver.com/main/read.nhn?mode=LSD&mid=shm&sid1=101&oid=003&aid=0010041067', 'https://news.naver.com/main/read.nhn?mode=LSD&mid=shm&sid1=101&oid=003&aid=0010041067', 'https://news.naver.com/main/read.nhn?mode=LSD&mid=shm&sid1=101&oid=277&aid=0004743310', 'https://news.naver.com/main/read.nhn?mode=LSD&mid=shm&sid1=101&oid=277&aid=0004743310', 'https://news.naver.com/main/read.nhn?mode=LSD&mid=shm&sid1=101&oid=003&aid=0010042834', 'https://news.naver.com/main/read.nhn?mode=LSD&mid=shm&sid1=101&oid=003&aid=0010042834', 'https://news.naver.com/main/read.nhn?mode=LSD&mid=shm&sid1=101&oid=081&aid=0003118938', 'https://news.naver.com/main/read.nhn?mode=LSD&mid=shm&sid1=101&oid=081&aid=0003118938', 'https://news.naver.com/main/read.nhn?mode=LSD&mid=shm&sid1=101&oid=015&aid=0004404530', 'https://news.naver.com/main/read.nhn?mode=LSD&mid=shm&sid1=101&oid=015&aid=0004404530', 'https://news.naver.com/main/read.nhn?mode=LSD&mid=shm&sid1=101&oid=014&aid=0004483548', 'https://news.naver.com/main/read.nhn?mode=LSD&mid=shm&sid1=101&oid=014&aid=0004483548', 'https://news.naver.com/main/read.nhn?mode=LSD&mid=shm&sid1=101&oid=417&aid=0000585398', 'https://news.naver.com/main/read.nhn?mode=LSD&mid=shm&sid1=101&oid=417&aid=0000585398', 'https://news.naver.com/main/read.nhn?mode=LSD&mid=shm&sid1=101&oid=421&aid=0004836237', 'https://news.naver.com/main/read.nhn?mode=LSD&mid=shm&sid1=101&oid=421&aid=0004836237', 'https://news.naver.com/main/read.nhn?mode=LSD&mid=shm&sid1=101&oid=025&aid=0003029631', 'https://news.naver.com/main/read.nhn?mode=LSD&mid=shm&sid1=101&oid=025&aid=0003029631', 'https://news.naver.com/main/read.nhn?mode=LSD&mid=shm&sid1=101&oid=366&aid=0000578279', 'https://news.naver.com/main/read.nhn?mode=LSD&mid=shm&sid1=101&oid=366&aid=0000578279', 'https://news.naver.com/main/read.nhn?mode=LSD&mid=shm&sid1=101&oid=629&aid=0000039203', 'https://news.naver.com/main/read.nhn?mode=LSD&mid=shm&sid1=101&oid=629&aid=0000039203', 'https://news.naver.com/main/read.nhn?mode=LSD&mid=shm&sid1=101&oid=031&aid=0000554226', 'https://news.naver.com/main/read.nhn?mode=LSD&mid=shm&sid1=101&oid=031&aid=0000554226', 'https://news.naver.com/main/read.nhn?mode=LSD&mid=shm&sid1=101&oid=469&aid=0000529432', 'https://news.naver.com/main/read.nhn?mode=LSD&mid=shm&sid1=101&oid=469&aid=0000529432', 'https://news.naver.com/main/read.nhn?mode=LSD&mid=shm&sid1=101&oid=032&aid=0003029020', 'https://news.naver.com/main/read.nhn?mode=LSD&mid=shm&sid1=101&oid=032&aid=0003029020', 'https://news.naver.com/main/read.nhn?mode=LSD&mid=shm&sid1=101&oid=009&aid=0004642978', 'https://news.naver.com/main/read.nhn?mode=LSD&mid=shm&sid1=101&oid=009&aid=0004642978', 'https://news.naver.com/main/read.nhn?mode=LSD&mid=shm&sid1=101&oid=022&aid=0003497449', 'https://news.naver.com/main/read.nhn?mode=LSD&mid=shm&sid1=101&oid=022&aid=0003497449', 'https://news.naver.com/main/read.nhn?mode=LSD&mid=shm&sid1=101&oid=417&aid=0000585434', 'https://news.naver.com/main/read.nhn?mode=LSD&mid=shm&sid1=101&oid=417&aid=0000585434', 'https://news.naver.com/main/read.nhn?mode=LSD&mid=shm&sid1=101&oid=629&aid=0000039223', 'https://news.naver.com/main/read.nhn?mode=LSD&mid=shm&sid1=101&oid=629&aid=0000039223', 'https://news.naver.com/main/read.nhn?mode=LSD&mid=shm&sid1=101&oid=001&aid=0011837826', 'https://news.naver.com/main/read.nhn?mode=LSD&mid=shm&sid1=101&oid=001&aid=0011837826', 'https://news.naver.com/main/read.nhn?mode=LSD&mid=shm&sid1=101&oid=001&aid=0011840094', 'https://news.naver.com/main/read.nhn?mode=LSD&mid=shm&sid1=101&oid=001&aid=0011840094', 'https://news.naver.com/main/read.nhn?mode=LSD&mid=shm&sid1=101&oid=015&aid=0004404979', 'https://news.naver.com/main/read.nhn?mode=LSD&mid=shm&sid1=101&oid=015&aid=0004404979', 'https://news.naver.com/main/read.nhn?mode=LSD&mid=shm&sid1=101&oid=011&aid=0003788671', 'https://news.naver.com/main/read.nhn?mode=LSD&mid=shm&sid1=101&oid=011&aid=0003788671', 'https://news.naver.com/main/read.nhn?mode=LSD&mid=shm&sid1=101&oid=057&aid=0001492611', 'https://news.naver.com/main/read.nhn?mode=LSD&mid=shm&sid1=101&oid=057&aid=0001492611', 'https://news.naver.com/main/read.nhn?mode=LSD&mid=shm&sid1=101&oid=028&aid=0002510318', 'https://news.naver.com/main/read.nhn?mode=LSD&mid=shm&sid1=101&oid=028&aid=0002510318', 'https://news.naver.com/main/read.nhn?mode=LSD&mid=shm&sid1=101&oid=417&aid=0000584922', 'https://news.naver.com/main/read.nhn?mode=LSD&mid=shm&sid1=101&oid=417&aid=0000584922', 'https://news.naver.com/main/read.nhn?mode=LSD&mid=shm&sid1=101&oid=052&aid=0001483176', 'https://news.naver.com/main/read.nhn?mode=LSD&mid=shm&sid1=101&oid=052&aid=0001483176', 'https://news.naver.com/main/read.nhn?mode=LSD&mid=shm&sid1=101&oid=008&aid=0004461544', 'https://news.naver.com/main/read.nhn?mode=LSD&mid=shm&sid1=101&oid=008&aid=0004461544', 'https://news.naver.com/main/read.nhn?mode=LSD&mid=shm&sid1=101&oid=021&aid=0002440107', 'https://news.naver.com/main/read.nhn?mode=LSD&mid=shm&sid1=101&oid=005&aid=0001356004', 'https://news.naver.com/main/read.nhn?mode=LSD&mid=shm&sid1=101&oid=005&aid=0001356004', 'https://news.naver.com/main/read.nhn?mode=LSD&mid=shm&sid1=101&oid=031&aid=0000554380', 'https://news.naver.com/main/read.nhn?mode=LSD&mid=shm&sid1=101&oid=031&aid=0000554380', 'https://news.naver.com/main/read.nhn?mode=LSD&mid=shm&sid1=101&oid=277&aid=0004743691', 'https://news.naver.com/main/read.nhn?mode=LSD&mid=shm&sid1=101&oid=277&aid=0004743691', 'https://news.naver.com/main/read.nhn?mode=LSD&mid=shm&sid1=101&oid=079&aid=0003399706', 'https://news.naver.com/main/read.nhn?mode=LSD&mid=shm&sid1=101&oid=079&aid=0003399706', 'https://news.naver.com/main/read.nhn?mode=LSD&mid=shm&sid1=101&oid=215&aid=0000896495', 'https://news.naver.com/main/read.nhn?mode=LSD&mid=shm&sid1=101&oid=215&aid=0000896495', 'https://news.naver.com/main/read.nhn?mode=LSD&mid=shm&sid1=101&oid=018&aid=0004722646', 'https://news.naver.com/main/read.nhn?mode=LSD&mid=shm&sid1=101&oid=119&aid=0002423808', 'https://news.naver.com/main/read.nhn?mode=LSD&mid=shm&sid1=101&oid=119&aid=0002423808', 'https://news.naver.com/main/read.nhn?mode=LSD&mid=shm&sid1=101&oid=092&aid=0002197478', 'https://news.naver.com/main/read.nhn?mode=LSD&mid=shm&sid1=101&oid=092&aid=0002197478', 'https://news.naver.com/main/read.nhn?mode=LSD&mid=shm&sid1=101&oid=092&aid=0002197394', 'https://news.naver.com/main/read.nhn?mode=LSD&mid=shm&sid1=101&oid=092&aid=0002197394', 'https://news.naver.com/main/read.nhn?mode=LSD&mid=shm&sid1=101&oid=374&aid=0000219265', 'https://news.naver.com/main/read.nhn?mode=LSD&mid=shm&sid1=101&oid=374&aid=0000219265', 'https://news.naver.com/main/read.nhn?mode=LSD&mid=shm&sid1=101&oid=005&aid=0001355565', 'https://news.naver.com/main/read.nhn?mode=LSD&mid=shm&sid1=101&oid=005&aid=0001355565', 'https://news.naver.com/main/read.nhn?mode=LSD&mid=shm&sid1=101&oid=057&aid=0001492823', 'https://news.naver.com/main/read.nhn?mode=LSD&mid=shm&sid1=101&oid=057&aid=0001492823', 'https://news.naver.com/main/read.nhn?mode=LSD&mid=shm&sid1=101&oid=016&aid=0001716611', 'https://news.naver.com/main/read.nhn?mode=LSD&mid=shm&sid1=101&oid=016&aid=0001716611', 'https://news.naver.com/main/read.nhn?mode=LSD&mid=shm&sid1=101&oid=029&aid=0002620055', 'https://news.naver.com/main/read.nhn?mode=LSD&mid=shm&sid1=101&oid=029&aid=0002620055', 'https://news.naver.com/main/read.nhn?mode=LSD&mid=shm&sid1=101&oid=020&aid=0003305627', 'https://news.naver.com/main/read.nhn?mode=LSD&mid=shm&sid1=101&oid=214&aid=0001061661', 'https://news.naver.com/main/read.nhn?mode=LSD&mid=shm&sid1=101&oid=214&aid=0001061661', 'https://news.naver.com/main/read.nhn?mode=LSD&mid=shm&sid1=101&oid=214&aid=0001061487', 'https://news.naver.com/main/read.nhn?mode=LSD&mid=shm&sid1=101&oid=214&aid=0001061487', 'https://news.naver.com/main/read.nhn?mode=LSD&mid=shm&sid1=101&oid=030&aid=0002899829', 'https://news.naver.com/main/read.nhn?mode=LSD&mid=shm&sid1=101&oid=214&aid=0001061636', 'https://news.naver.com/main/read.nhn?mode=LSD&mid=shm&sid1=101&oid=214&aid=0001061636', 'https://news.naver.com/main/read.nhn?mode=LSD&mid=shm&sid1=101&oid=009&aid=0004642293', 'https://news.naver.com/main/read.nhn?mode=LSD&mid=shm&sid1=101&oid=009&aid=0004642293', 'https://news.naver.com/main/read.nhn?mode=LSD&mid=shm&sid1=101&oid=052&aid=0001483032', 'https://news.naver.com/main/read.nhn?mode=LSD&mid=shm&sid1=101&oid=215&aid=0000896346', 'https://news.naver.com/main/read.nhn?mode=LSD&mid=shm&sid1=101&oid=215&aid=0000896346', 'https://news.naver.com/main/read.nhn?mode=LSD&mid=shm&sid1=101&oid=366&aid=0000577678', 'https://news.naver.com/main/read.nhn?mode=LSD&mid=shm&sid1=101&oid=014&aid=0004483551', 'https://news.naver.com/main/read.nhn?mode=LSD&mid=shm&sid1=101&oid=014&aid=0004483551', 'https://news.naver.com/main/read.nhn?mode=LSD&mid=shm&sid1=101&oid=374&aid=0000219225', 'https://news.naver.com/main/read.nhn?mode=LSD&mid=shm&sid1=101&oid=374&aid=0000219225', 'https://news.naver.com/main/read.nhn?mode=LSD&mid=shm&sid1=101&oid=421&aid=0004836191', 'https://news.naver.com/main/read.nhn?mode=LSD&mid=shm&sid1=101&oid=421&aid=0004836191', 'https://news.naver.com/main/read.nhn?mode=LSD&mid=shm&sid1=101&oid=277&aid=0004743682', 'https://news.naver.com/main/read.nhn?mode=LSD&mid=shm&sid1=101&oid=277&aid=0004743682', 'https://news.naver.com/main/read.nhn?mode=LSD&mid=shm&sid1=101&oid=056&aid=0010891289', 'https://news.naver.com/main/read.nhn?mode=LSD&mid=shm&sid1=101&oid=056&aid=0010891289', 'https://news.naver.com/main/read.nhn?mode=LSD&mid=shm&sid1=101&oid=016&aid=0001716601', 'https://news.naver.com/main/read.nhn?mode=LSD&mid=shm&sid1=101&oid=016&aid=0001716601', 'https://news.naver.com/main/read.nhn?mode=LSD&mid=shm&sid1=101&oid=018&aid=0004722626', 'https://news.naver.com/main/read.nhn?mode=LSD&mid=shm&sid1=101&oid=374&aid=0000219210', 'https://news.naver.com/main/read.nhn?mode=LSD&mid=shm&sid1=101&oid=374&aid=0000219210', 'https://news.naver.com/main/read.nhn?mode=LSD&mid=shm&sid1=101&oid=421&aid=0004836184', 'https://news.naver.com/main/read.nhn?mode=LSD&mid=shm&sid1=101&oid=022&aid=0003497436', 'https://news.naver.com/main/read.nhn?mode=LSD&mid=shm&sid1=101&oid=022&aid=0003497436']\n"
          ],
          "name": "stdout"
        }
      ]
    },
    {
      "cell_type": "code",
      "metadata": {
        "id": "lc_On4kmxZgs",
        "colab_type": "code",
        "colab": {}
      },
      "source": [
        ""
      ],
      "execution_count": null,
      "outputs": []
    }
  ]
}